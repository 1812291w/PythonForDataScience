{
 "cells": [
  {
   "cell_type": "code",
   "execution_count": 16,
   "id": "cf4b4cd5",
   "metadata": {},
   "outputs": [
    {
     "name": "stdout",
     "output_type": "stream",
     "text": [
      "hello world\n"
     ]
    }
   ],
   "source": [
    "print (\"hello world\");"
   ]
  },
  {
   "cell_type": "code",
   "execution_count": 6,
   "id": "c432b94c",
   "metadata": {},
   "outputs": [
    {
     "name": "stdout",
     "output_type": "stream",
     "text": [
      "Twinkle,twinkle,littlestar,\n",
      " \t How i wonder what you are!,\n",
      " \t\tUp above the world so high, \n",
      "\t\tLike a diamond in the sky.\n",
      "Twinkle twinkle little star,\n",
      "\tHow i wonder what you are \n"
     ]
    }
   ],
   "source": [
    "print (\"Twinkle,twinkle,littlestar,\\n \\t How i wonder what you are!,\\n \\t\\tUp above the world so high, \\n\\t\\tLike a diamond in the sky.\\nTwinkle twinkle little star,\\n\\tHow i wonder what you are \")"
   ]
  },
  {
   "cell_type": "code",
   "execution_count": 15,
   "id": "6398c693",
   "metadata": {},
   "outputs": [
    {
     "name": "stdout",
     "output_type": "stream",
     "text": [
      "python version\n",
      "3.9.7 (default, Sep 16 2021, 16:59:28) [MSC v.1916 64 bit (AMD64)]\n",
      "python info\n",
      "sys.version_info(major=3, minor=9, micro=7, releaselevel='final', serial=0)\n"
     ]
    }
   ],
   "source": [
    "print (\"python version\");\n",
    "print(sys.version);\n",
    "print (\"python info\");\n",
    "print(sys.version_info);\n"
   ]
  },
  {
   "cell_type": "code",
   "execution_count": 9,
   "id": "ec2ad2bc",
   "metadata": {},
   "outputs": [
    {
     "name": "stdout",
     "output_type": "stream",
     "text": [
      "2021-12-31 15:33:25.438767\n"
     ]
    }
   ],
   "source": [
    "import datetime\n",
    "print(datetime.datetime.today())"
   ]
  },
  {
   "cell_type": "code",
   "execution_count": 3,
   "id": "1eb92708",
   "metadata": {},
   "outputs": [
    {
     "name": "stdout",
     "output_type": "stream",
     "text": [
      "enter the radius of the circle10\n",
      "area of the circle is 314.0\n"
     ]
    }
   ],
   "source": [
    "import math\n",
    "radius=float(input(\"enter the radius of the circle\"))\n",
    "area=3.14*radius*radius\n",
    "print(\"area of the circle is\",area)"
   ]
  },
  {
   "cell_type": "code",
   "execution_count": 10,
   "id": "3a49ecd4",
   "metadata": {},
   "outputs": [
    {
     "name": "stdout",
     "output_type": "stream",
     "text": [
      "enter your first namewahab\n",
      "enter your last namekhan\n",
      "khan wahab\n"
     ]
    }
   ],
   "source": [
    "x=input(\"enter your first name\")\n",
    "y=input(\"enter your last name\")\n",
    "print(y +\" \"+ x)"
   ]
  },
  {
   "cell_type": "code",
   "execution_count": 11,
   "id": "7a97563c",
   "metadata": {},
   "outputs": [
    {
     "name": "stdout",
     "output_type": "stream",
     "text": [
      "15\n"
     ]
    }
   ],
   "source": [
    "a=5\n",
    "b=10\n",
    "c=a+b\n",
    "print(c)"
   ]
  },
  {
   "cell_type": "code",
   "execution_count": null,
   "id": "0b20cdd8",
   "metadata": {},
   "outputs": [],
   "source": []
  }
 ],
 "metadata": {
  "kernelspec": {
   "display_name": "Python 3 (ipykernel)",
   "language": "python",
   "name": "python3"
  },
  "language_info": {
   "codemirror_mode": {
    "name": "ipython",
    "version": 3
   },
   "file_extension": ".py",
   "mimetype": "text/x-python",
   "name": "python",
   "nbconvert_exporter": "python",
   "pygments_lexer": "ipython3",
   "version": "3.9.7"
  }
 },
 "nbformat": 4,
 "nbformat_minor": 5
}
